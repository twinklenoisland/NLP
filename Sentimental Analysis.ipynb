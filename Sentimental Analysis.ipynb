{
  "nbformat": 4,
  "nbformat_minor": 0,
  "metadata": {
    "colab": {
      "name": "NLP2.ipynb",
      "version": "0.3.2",
      "provenance": [],
      "collapsed_sections": []
    },
    "kernelspec": {
      "name": "python3",
      "display_name": "Python 3"
    }
  },
  "cells": [
    {
      "metadata": {
        "id": "r2DC93SHFKI8",
        "colab_type": "code",
        "colab": {}
      },
      "cell_type": "code",
      "source": [
        "import os\n",
        "import numpy as np\n",
        "import pandas as pd\n",
        "import spacy\n"
      ],
      "execution_count": 0,
      "outputs": []
    },
    {
      "metadata": {
        "id": "nIGobg0EFxvg",
        "colab_type": "code",
        "colab": {}
      },
      "cell_type": "code",
      "source": [
        "import io\n",
        "train = pd.read_csv('traindata.csv',sep=\"\\t\",header=None)\n",
        "test =  pd.read_csv('devdata.csv',sep=\"\\t\",header=None)"
      ],
      "execution_count": 0,
      "outputs": []
    },
    {
      "metadata": {
        "id": "Gc9hijA4MW4a",
        "colab_type": "code",
        "colab": {}
      },
      "cell_type": "code",
      "source": [
        "nlp = spacy.load('en')"
      ],
      "execution_count": 0,
      "outputs": []
    },
    {
      "metadata": {
        "id": "OkKmKUG7GLod",
        "colab_type": "code",
        "colab": {}
      },
      "cell_type": "code",
      "source": [
        "#function to extract adjective, verb from reviews(words that express emotion)\n",
        "\n",
        "def filter_av(text):\n",
        "  tok = nlp(text)\n",
        "  av = \"\"\n",
        "  av_lst = [item.lemma_+ \" \" for item in tok if (not item.is_stop and not item.is_punct and (item.pos_ == \"VERB\" or item.pos_ == \"ADJ\"))]\n",
        "  return av.join(av_lst)"
      ],
      "execution_count": 0,
      "outputs": []
    },
    {
      "metadata": {
        "id": "X8-DLmdvjSs4",
        "colab_type": "code",
        "colab": {}
      },
      "cell_type": "code",
      "source": [
        "def preprocess(df):\n",
        "  df.columns = ['polarity','category','aspect','offsets','review']\n",
        "  df[\"review_av\"] = df[\"review\"].apply(filter_av)\n",
        "  return df"
      ],
      "execution_count": 0,
      "outputs": []
    },
    {
      "metadata": {
        "id": "7RScF_2LlMKL",
        "colab_type": "code",
        "colab": {}
      },
      "cell_type": "code",
      "source": [
        "train = preprocess(train)"
      ],
      "execution_count": 0,
      "outputs": []
    },
    {
      "metadata": {
        "id": "F-pksQRGlQtC",
        "colab_type": "code",
        "outputId": "e4e50914-a7f9-440f-9e96-9e4c6b44e93f",
        "colab": {
          "base_uri": "https://localhost:8080/",
          "height": 202
        }
      },
      "cell_type": "code",
      "source": [
        "train.head()"
      ],
      "execution_count": 0,
      "outputs": [
        {
          "output_type": "execute_result",
          "data": {
            "text/html": [
              "<div>\n",
              "<style scoped>\n",
              "    .dataframe tbody tr th:only-of-type {\n",
              "        vertical-align: middle;\n",
              "    }\n",
              "\n",
              "    .dataframe tbody tr th {\n",
              "        vertical-align: top;\n",
              "    }\n",
              "\n",
              "    .dataframe thead th {\n",
              "        text-align: right;\n",
              "    }\n",
              "</style>\n",
              "<table border=\"1\" class=\"dataframe\">\n",
              "  <thead>\n",
              "    <tr style=\"text-align: right;\">\n",
              "      <th></th>\n",
              "      <th>polarity</th>\n",
              "      <th>category</th>\n",
              "      <th>aspect</th>\n",
              "      <th>offsets</th>\n",
              "      <th>review</th>\n",
              "      <th>review_av</th>\n",
              "    </tr>\n",
              "  </thead>\n",
              "  <tbody>\n",
              "    <tr>\n",
              "      <th>0</th>\n",
              "      <td>positive</td>\n",
              "      <td>AMBIENCE#GENERAL</td>\n",
              "      <td>seating</td>\n",
              "      <td>18:25</td>\n",
              "      <td>short and sweet – seating is great:it's romant...</td>\n",
              "      <td>short sweet great be romantic cozy private</td>\n",
              "    </tr>\n",
              "    <tr>\n",
              "      <th>1</th>\n",
              "      <td>positive</td>\n",
              "      <td>AMBIENCE#GENERAL</td>\n",
              "      <td>trattoria</td>\n",
              "      <td>25:34</td>\n",
              "      <td>This quaint and romantic trattoria is at the t...</td>\n",
              "      <td>quaint romantic</td>\n",
              "    </tr>\n",
              "    <tr>\n",
              "      <th>2</th>\n",
              "      <td>positive</td>\n",
              "      <td>FOOD#QUALITY</td>\n",
              "      <td>food</td>\n",
              "      <td>98:102</td>\n",
              "      <td>The have over 100 different beers to offer thi...</td>\n",
              "      <td>different offer thi happy delicious recommend</td>\n",
              "    </tr>\n",
              "    <tr>\n",
              "      <th>3</th>\n",
              "      <td>negative</td>\n",
              "      <td>SERVICE#GENERAL</td>\n",
              "      <td>STAFF</td>\n",
              "      <td>5:10</td>\n",
              "      <td>THIS STAFF SHOULD BE FIRED.</td>\n",
              "      <td>should be</td>\n",
              "    </tr>\n",
              "    <tr>\n",
              "      <th>4</th>\n",
              "      <td>positive</td>\n",
              "      <td>FOOD#STYLE_OPTIONS</td>\n",
              "      <td>menu</td>\n",
              "      <td>4:8</td>\n",
              "      <td>The menu looked great, and the waiter was very...</td>\n",
              "      <td>look great nice come average</td>\n",
              "    </tr>\n",
              "  </tbody>\n",
              "</table>\n",
              "</div>"
            ],
            "text/plain": [
              "   polarity            category     aspect offsets  \\\n",
              "0  positive    AMBIENCE#GENERAL    seating   18:25   \n",
              "1  positive    AMBIENCE#GENERAL  trattoria   25:34   \n",
              "2  positive        FOOD#QUALITY       food  98:102   \n",
              "3  negative     SERVICE#GENERAL      STAFF    5:10   \n",
              "4  positive  FOOD#STYLE_OPTIONS       menu     4:8   \n",
              "\n",
              "                                              review  \\\n",
              "0  short and sweet – seating is great:it's romant...   \n",
              "1  This quaint and romantic trattoria is at the t...   \n",
              "2  The have over 100 different beers to offer thi...   \n",
              "3                        THIS STAFF SHOULD BE FIRED.   \n",
              "4  The menu looked great, and the waiter was very...   \n",
              "\n",
              "                                        review_av  \n",
              "0     short sweet great be romantic cozy private   \n",
              "1                                quaint romantic   \n",
              "2  different offer thi happy delicious recommend   \n",
              "3                                      should be   \n",
              "4                   look great nice come average   "
            ]
          },
          "metadata": {
            "tags": []
          },
          "execution_count": 125
        }
      ]
    },
    {
      "metadata": {
        "id": "JqDFc0bYLAgS",
        "colab_type": "code",
        "colab": {}
      },
      "cell_type": "code",
      "source": [
        "# apply the function to test df\n",
        "test = preprocess(test)"
      ],
      "execution_count": 0,
      "outputs": []
    },
    {
      "metadata": {
        "id": "UHPcxcsHY0UV",
        "colab_type": "code",
        "colab": {}
      },
      "cell_type": "code",
      "source": [
        "# use keras to tokenize\n",
        "from keras.preprocessing.text import Tokenizer \n",
        "from keras.preprocessing.sequence import pad_sequences \n",
        "import numpy as np \n",
        "\n",
        "# prepare embedding matrix\n",
        "# set dim, max_words\n",
        "embedding_dim = 100\n",
        "max_words = 10000\n",
        "maxlen = 100\n",
        "\n",
        "tokenizer = Tokenizer(num_words=max_words) \n",
        "tokenizer.fit_on_texts(train.review_av)\n",
        "sequences = tokenizer.texts_to_sequences(train.review_av) \n",
        "\n",
        "x_train = pad_sequences(sequences, maxlen=maxlen)\n",
        "x_test = tokenizer.texts_to_sequences(test['review_av'])\n",
        "x_test = pad_sequences(x_test, maxlen=maxlen)\n"
      ],
      "execution_count": 0,
      "outputs": []
    },
    {
      "metadata": {
        "id": "gfYgoNrw6NoC",
        "colab_type": "code",
        "colab": {}
      },
      "cell_type": "code",
      "source": [
        "# categorize label\n",
        "from sklearn.preprocessing import LabelEncoder\n",
        "from keras.utils import to_categorical\n",
        "\n",
        "encoder = LabelEncoder()\n",
        "y_train = encoder.fit_transform(train[\"polarity\"])\n",
        "y_train = to_categorical(y_train)\n",
        "\n",
        "y_test = encoder.transform(test[\"polarity\"])\n",
        "y_test = to_categorical(y_test)"
      ],
      "execution_count": 0,
      "outputs": []
    },
    {
      "metadata": {
        "id": "sByDKICV-Cj7",
        "colab_type": "code",
        "outputId": "a8660edc-db82-476a-ee4c-99c14c62d471",
        "colab": {
          "base_uri": "https://localhost:8080/",
          "height": 379
        }
      },
      "cell_type": "code",
      "source": [
        "from keras.layers import LSTM\n",
        " \n",
        "model = Sequential()\n",
        "model.add(Embedding(max_words, embedding_dim, input_length=maxlen)) \n",
        "model.add(LSTM(32,dropout_U = 0.2, dropout_W = 0.2))\n",
        "model.add(Dense(16,activation='relu'))\n",
        "model.add(Dropout(0.5))\n",
        "model.add(Dense(3, activation='sigmoid')) \n",
        "model.summary()"
      ],
      "execution_count": 0,
      "outputs": [
        {
          "output_type": "stream",
          "text": [
            "/usr/local/lib/python3.6/dist-packages/ipykernel_launcher.py:5: UserWarning: Update your `LSTM` call to the Keras 2 API: `LSTM(32, dropout=0.2, recurrent_dropout=0.2)`\n",
            "  \"\"\"\n"
          ],
          "name": "stderr"
        },
        {
          "output_type": "stream",
          "text": [
            "_________________________________________________________________\n",
            "Layer (type)                 Output Shape              Param #   \n",
            "=================================================================\n",
            "embedding_37 (Embedding)     (None, 100, 100)          1000000   \n",
            "_________________________________________________________________\n",
            "lstm_19 (LSTM)               (None, 32)                17024     \n",
            "_________________________________________________________________\n",
            "dense_73 (Dense)             (None, 16)                528       \n",
            "_________________________________________________________________\n",
            "dropout_29 (Dropout)         (None, 16)                0         \n",
            "_________________________________________________________________\n",
            "dense_74 (Dense)             (None, 3)                 51        \n",
            "=================================================================\n",
            "Total params: 1,017,603\n",
            "Trainable params: 1,017,603\n",
            "Non-trainable params: 0\n",
            "_________________________________________________________________\n"
          ],
          "name": "stdout"
        }
      ]
    },
    {
      "metadata": {
        "id": "SztbN3_d-iZT",
        "colab_type": "code",
        "outputId": "8745dac9-0b77-4efc-b3a9-64fd6319714c",
        "colab": {
          "base_uri": "https://localhost:8080/",
          "height": 323
        }
      },
      "cell_type": "code",
      "source": [
        "model.compile(optimizer='rmsprop',               \n",
        "              loss='categorical_crossentropy',               \n",
        "              metrics=['acc']) \n",
        "history = model.fit(x_train, y_train,                     \n",
        "                    epochs=8,                     \n",
        "                    batch_size=32,\n",
        "                   validation_data=(x_test, y_test))"
      ],
      "execution_count": 0,
      "outputs": [
        {
          "output_type": "stream",
          "text": [
            "Train on 1503 samples, validate on 376 samples\n",
            "Epoch 1/8\n",
            "1503/1503 [==============================] - 11s 8ms/step - loss: 0.8869 - acc: 0.6407 - val_loss: 0.7389 - val_acc: 0.7021\n",
            "Epoch 2/8\n",
            "1503/1503 [==============================] - 5s 3ms/step - loss: 0.8067 - acc: 0.6793 - val_loss: 0.7298 - val_acc: 0.7021\n",
            "Epoch 3/8\n",
            "1503/1503 [==============================] - 5s 3ms/step - loss: 0.7831 - acc: 0.6846 - val_loss: 0.6987 - val_acc: 0.7021\n",
            "Epoch 4/8\n",
            "1503/1503 [==============================] - 5s 3ms/step - loss: 0.7468 - acc: 0.6840 - val_loss: 0.6534 - val_acc: 0.7021\n",
            "Epoch 5/8\n",
            "1503/1503 [==============================] - 5s 3ms/step - loss: 0.6680 - acc: 0.7192 - val_loss: 0.6019 - val_acc: 0.7447\n",
            "Epoch 6/8\n",
            "1503/1503 [==============================] - 5s 3ms/step - loss: 0.5881 - acc: 0.7858 - val_loss: 0.5871 - val_acc: 0.8005\n",
            "Epoch 7/8\n",
            "1503/1503 [==============================] - 5s 3ms/step - loss: 0.5622 - acc: 0.8117 - val_loss: 0.5915 - val_acc: 0.8032\n",
            "Epoch 8/8\n",
            "1503/1503 [==============================] - 5s 3ms/step - loss: 0.5213 - acc: 0.8303 - val_loss: 0.5981 - val_acc: 0.8005\n"
          ],
          "name": "stdout"
        }
      ]
    }
  ]
}